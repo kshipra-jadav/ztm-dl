{
  "nbformat": 4,
  "nbformat_minor": 0,
  "metadata": {
    "colab": {
      "provenance": [],
      "gpuType": "T4",
      "authorship_tag": "ABX9TyPikv4j9MmUI1QmnDuSSp6W",
      "include_colab_link": true
    },
    "kernelspec": {
      "name": "python3",
      "display_name": "Python 3"
    },
    "language_info": {
      "name": "python"
    },
    "accelerator": "GPU"
  },
  "cells": [
    {
      "cell_type": "markdown",
      "metadata": {
        "id": "view-in-github",
        "colab_type": "text"
      },
      "source": [
        "<a href=\"https://colab.research.google.com/github/kshipra-jadav/ztm-dl/blob/master/Transfer_Learning_with_TensorFlow_(Part_2)_ZTM.ipynb\" target=\"_parent\"><img src=\"https://colab.research.google.com/assets/colab-badge.svg\" alt=\"Open In Colab\"/></a>"
      ]
    },
    {
      "cell_type": "markdown",
      "source": [
        "# Transfer Learning with TensorFlow Part 2 - Fine Tuning"
      ],
      "metadata": {
        "id": "b3bJR6vqahzE"
      }
    },
    {
      "cell_type": "markdown",
      "source": [
        "## Creating Helper Functions\n",
        "\n",
        "Link - https://github.com/mrdbourke/tensorflow-deep-learning/blob/main/extras/helper_functions.py"
      ],
      "metadata": {
        "id": "SVJUrezUbzTA"
      }
    },
    {
      "cell_type": "code",
      "source": [
        "!wget https://raw.githubusercontent.com/mrdbourke/tensorflow-deep-learning/main/extras/helper_functions.py"
      ],
      "metadata": {
        "colab": {
          "base_uri": "https://localhost:8080/"
        },
        "id": "iC92aYJccPEr",
        "outputId": "711d3f48-ee0f-4689-821f-fb8c6a5069fc"
      },
      "execution_count": 2,
      "outputs": [
        {
          "output_type": "stream",
          "name": "stdout",
          "text": [
            "--2023-07-29 16:20:06--  https://raw.githubusercontent.com/mrdbourke/tensorflow-deep-learning/main/extras/helper_functions.py\n",
            "Resolving raw.githubusercontent.com (raw.githubusercontent.com)... 185.199.108.133, 185.199.109.133, 185.199.110.133, ...\n",
            "Connecting to raw.githubusercontent.com (raw.githubusercontent.com)|185.199.108.133|:443... connected.\n",
            "HTTP request sent, awaiting response... 200 OK\n",
            "Length: 10246 (10K) [text/plain]\n",
            "Saving to: ‘helper_functions.py.1’\n",
            "\n",
            "\rhelper_functions.py   0%[                    ]       0  --.-KB/s               \rhelper_functions.py 100%[===================>]  10.01K  --.-KB/s    in 0s      \n",
            "\n",
            "2023-07-29 16:20:06 (128 MB/s) - ‘helper_functions.py.1’ saved [10246/10246]\n",
            "\n"
          ]
        }
      ]
    },
    {
      "cell_type": "code",
      "source": [
        "from helper_functions import create_tensorboard_callback, plot_loss_curves, unzip_data"
      ],
      "metadata": {
        "id": "O_JqpjRMczMA"
      },
      "execution_count": 3,
      "outputs": []
    },
    {
      "cell_type": "markdown",
      "source": [
        "## Getting Some Data! 🚀\n",
        "\n",
        "This time we are going to use pretrained models with `tf.keras.applications` and see how they will be applicable to our problem (identifying images of food)"
      ],
      "metadata": {
        "id": "4gZ5tpEZc7BJ"
      }
    },
    {
      "cell_type": "code",
      "source": [
        "!wget https://storage.googleapis.com/ztm_tf_course/food_vision/10_food_classes_10_percent.zip"
      ],
      "metadata": {
        "colab": {
          "base_uri": "https://localhost:8080/"
        },
        "id": "9izi_rhXdIPa",
        "outputId": "f2f9df62-39fd-4813-a692-1105776bb73b"
      },
      "execution_count": 4,
      "outputs": [
        {
          "output_type": "stream",
          "name": "stdout",
          "text": [
            "--2023-07-29 16:23:28--  https://storage.googleapis.com/ztm_tf_course/food_vision/10_food_classes_10_percent.zip\n",
            "Resolving storage.googleapis.com (storage.googleapis.com)... 142.251.172.128, 142.250.152.128, 108.177.112.128, ...\n",
            "Connecting to storage.googleapis.com (storage.googleapis.com)|142.251.172.128|:443... connected.\n",
            "HTTP request sent, awaiting response... 200 OK\n",
            "Length: 168546183 (161M) [application/zip]\n",
            "Saving to: ‘10_food_classes_10_percent.zip’\n",
            "\n",
            "10_food_classes_10_ 100%[===================>] 160.74M   114MB/s    in 1.4s    \n",
            "\n",
            "2023-07-29 16:23:29 (114 MB/s) - ‘10_food_classes_10_percent.zip’ saved [168546183/168546183]\n",
            "\n"
          ]
        }
      ]
    },
    {
      "cell_type": "code",
      "source": [
        "unzip_data(\"10_food_classes_10_percent.zip\")"
      ],
      "metadata": {
        "id": "Bgd10PIYdkdO"
      },
      "execution_count": 5,
      "outputs": []
    },
    {
      "cell_type": "code",
      "source": [
        "from helper_functions import walk_through_dir\n",
        "\n",
        "walk_through_dir(\"10_food_classes_10_percent\")"
      ],
      "metadata": {
        "colab": {
          "base_uri": "https://localhost:8080/"
        },
        "id": "NTJ6JX63dw9Y",
        "outputId": "50ef11e8-5d52-41bc-e5ec-8eb2c820bd4f"
      },
      "execution_count": 7,
      "outputs": [
        {
          "output_type": "stream",
          "name": "stdout",
          "text": [
            "There are 2 directories and 0 images in '10_food_classes_10_percent'.\n",
            "There are 10 directories and 0 images in '10_food_classes_10_percent/test'.\n",
            "There are 0 directories and 250 images in '10_food_classes_10_percent/test/sushi'.\n",
            "There are 0 directories and 250 images in '10_food_classes_10_percent/test/ice_cream'.\n",
            "There are 0 directories and 250 images in '10_food_classes_10_percent/test/grilled_salmon'.\n",
            "There are 0 directories and 250 images in '10_food_classes_10_percent/test/chicken_wings'.\n",
            "There are 0 directories and 250 images in '10_food_classes_10_percent/test/chicken_curry'.\n",
            "There are 0 directories and 250 images in '10_food_classes_10_percent/test/ramen'.\n",
            "There are 0 directories and 250 images in '10_food_classes_10_percent/test/hamburger'.\n",
            "There are 0 directories and 250 images in '10_food_classes_10_percent/test/fried_rice'.\n",
            "There are 0 directories and 250 images in '10_food_classes_10_percent/test/steak'.\n",
            "There are 0 directories and 250 images in '10_food_classes_10_percent/test/pizza'.\n",
            "There are 10 directories and 0 images in '10_food_classes_10_percent/train'.\n",
            "There are 0 directories and 75 images in '10_food_classes_10_percent/train/sushi'.\n",
            "There are 0 directories and 75 images in '10_food_classes_10_percent/train/ice_cream'.\n",
            "There are 0 directories and 75 images in '10_food_classes_10_percent/train/grilled_salmon'.\n",
            "There are 0 directories and 75 images in '10_food_classes_10_percent/train/chicken_wings'.\n",
            "There are 0 directories and 75 images in '10_food_classes_10_percent/train/chicken_curry'.\n",
            "There are 0 directories and 75 images in '10_food_classes_10_percent/train/ramen'.\n",
            "There are 0 directories and 75 images in '10_food_classes_10_percent/train/hamburger'.\n",
            "There are 0 directories and 75 images in '10_food_classes_10_percent/train/fried_rice'.\n",
            "There are 0 directories and 75 images in '10_food_classes_10_percent/train/steak'.\n",
            "There are 0 directories and 75 images in '10_food_classes_10_percent/train/pizza'.\n"
          ]
        }
      ]
    },
    {
      "cell_type": "code",
      "source": [
        "base_dir = \"10_food_classes_10_percent\"\n",
        "train_dir = f\"{base_dir}/train\"\n",
        "test_dir = f\"{base_dir}/test\"\n",
        "image_size = (224, 224)"
      ],
      "metadata": {
        "id": "s96P3DMld67J"
      },
      "execution_count": 12,
      "outputs": []
    },
    {
      "cell_type": "code",
      "source": [
        "import tensorflow as tf\n",
        "\n",
        "train_data = tf.keras.utils.image_dataset_from_directory(directory=train_dir,\n",
        "                                                         image_size=image_size,\n",
        "                                                         label_mode=\"categorical\")\n",
        "test_data = tf.keras.utils.image_dataset_from_directory(directory=test_dir,\n",
        "                                                        image_size=image_size,\n",
        "                                                        label_mode=\"categorical\")"
      ],
      "metadata": {
        "colab": {
          "base_uri": "https://localhost:8080/"
        },
        "id": "kGdJcgQaei5v",
        "outputId": "bfe34614-5aae-4e50-da92-1f9db7392e25"
      },
      "execution_count": 13,
      "outputs": [
        {
          "output_type": "stream",
          "name": "stdout",
          "text": [
            "Found 750 files belonging to 10 classes.\n",
            "Found 2500 files belonging to 10 classes.\n"
          ]
        }
      ]
    },
    {
      "cell_type": "code",
      "source": [
        "test_data, train_data"
      ],
      "metadata": {
        "colab": {
          "base_uri": "https://localhost:8080/"
        },
        "id": "8bIslso5fMkc",
        "outputId": "91915ce7-81e9-4833-ea90-d0b4f1d6cccc"
      },
      "execution_count": 18,
      "outputs": [
        {
          "output_type": "execute_result",
          "data": {
            "text/plain": [
              "(<_BatchDataset element_spec=(TensorSpec(shape=(None, 224, 224, 3), dtype=tf.float32, name=None), TensorSpec(shape=(None, 10), dtype=tf.float32, name=None))>,\n",
              " <_BatchDataset element_spec=(TensorSpec(shape=(None, 224, 224, 3), dtype=tf.float32, name=None), TensorSpec(shape=(None, 10), dtype=tf.float32, name=None))>)"
            ]
          },
          "metadata": {},
          "execution_count": 18
        }
      ]
    },
    {
      "cell_type": "markdown",
      "source": [
        "## Model 0: Building A Transfer Learning Model with Keras Sequential API"
      ],
      "metadata": {
        "id": "_fJ8ReqMiSzA"
      }
    },
    {
      "cell_type": "code",
      "source": [
        "# 1. Create base model with tf.keras.applications\n",
        "base_model = tf.keras.applications.EfficientNetB0(include_top=False)\n",
        "\n",
        "# 2. Freeze the base model (so the underlying pre-trained patterns aren't updated during training)\n",
        "base_model.trainable = False\n",
        "\n",
        "# 3. Create inputs into our model\n",
        "inputs = tf.keras.layers.Input(shape=(224, 224, 3), name=\"input_layer\")\n",
        "\n",
        "# 4. Pass the inputs to the base_model\n",
        "x = base_model(inputs)\n",
        "\n",
        "# 5. Average pool the outputs of the base model\n",
        "x = tf.keras.layers.GlobalAveragePooling2D(name=\"global_avg_pooling_layer\")(x)\n",
        "\n",
        "# 6. Create output activation layer\n",
        "outputs = tf.keras.layers.Dense(10, activation=\"sigmoid\", name=\"output_layer\")(x)\n",
        "\n",
        "# 7. Combine the inputs and the outputs into a model\n",
        "model_0 = tf.keras.Model(inputs, outputs)\n",
        "\n",
        "# 8. Compile the model\n",
        "model_0.compile(optimizer=\"adam\", loss=\"categorical_crossentropy\", metrics=[\"accuracy\"])\n",
        "\n",
        "# 9. Fit the model and save its history\n",
        "model_0_history = model_0.fit(train_data,\n",
        "                            validation_data=(test_data),\n",
        "                            epochs=5,\n",
        "                            callbacks=[create_tensorboard_callback(dir_name=\"transfer_learning_pt_2\",\n",
        "                                                                   experiment_name=\"10_percent_feature_extraction_model0\")])"
      ],
      "metadata": {
        "colab": {
          "base_uri": "https://localhost:8080/"
        },
        "id": "rRMQPtOxiXRe",
        "outputId": "07e9acce-7c6d-46b7-f320-e35b6173cbbd"
      },
      "execution_count": 20,
      "outputs": [
        {
          "output_type": "stream",
          "name": "stderr",
          "text": [
            "WARNING:tensorflow:Model failed to serialize as JSON. Ignoring... Unable to serialize [2.0896919 2.1128857 2.1081853] to JSON. Unrecognized type <class 'tensorflow.python.framework.ops.EagerTensor'>.\n"
          ]
        },
        {
          "output_type": "stream",
          "name": "stdout",
          "text": [
            "Saving TensorBoard log files to: transfer_learning_pt_2/10_percent_feature_extraction_model0/20230729-165918\n",
            "Epoch 1/5\n",
            "24/24 [==============================] - 17s 409ms/step - loss: 1.8097 - accuracy: 0.4480 - val_loss: 1.2440 - val_accuracy: 0.7680\n",
            "Epoch 2/5\n",
            "24/24 [==============================] - 12s 513ms/step - loss: 1.0694 - accuracy: 0.7707 - val_loss: 0.8399 - val_accuracy: 0.8284\n",
            "Epoch 3/5\n",
            "24/24 [==============================] - 8s 313ms/step - loss: 0.7689 - accuracy: 0.8373 - val_loss: 0.6825 - val_accuracy: 0.8432\n",
            "Epoch 4/5\n",
            "24/24 [==============================] - 9s 348ms/step - loss: 0.6200 - accuracy: 0.8693 - val_loss: 0.5966 - val_accuracy: 0.8548\n",
            "Epoch 5/5\n",
            "24/24 [==============================] - 9s 358ms/step - loss: 0.5273 - accuracy: 0.8840 - val_loss: 0.5472 - val_accuracy: 0.8616\n"
          ]
        }
      ]
    },
    {
      "cell_type": "code",
      "source": [
        "model_0.summary()"
      ],
      "metadata": {
        "colab": {
          "base_uri": "https://localhost:8080/"
        },
        "id": "YnBtrKqJmUuv",
        "outputId": "558c5be2-a036-4a28-ee81-d4bd20f91441"
      },
      "execution_count": 22,
      "outputs": [
        {
          "output_type": "stream",
          "name": "stdout",
          "text": [
            "Model: \"model_1\"\n",
            "_________________________________________________________________\n",
            " Layer (type)                Output Shape              Param #   \n",
            "=================================================================\n",
            " input_layer (InputLayer)    [(None, 224, 224, 3)]     0         \n",
            "                                                                 \n",
            " efficientnetb0 (Functional)  (None, None, None, 1280)  4049571  \n",
            "                                                                 \n",
            " global_avg_pooling_layer (G  (None, 1280)             0         \n",
            " lobalAveragePooling2D)                                          \n",
            "                                                                 \n",
            " output_layer (Dense)        (None, 10)                12810     \n",
            "                                                                 \n",
            "=================================================================\n",
            "Total params: 4,062,381\n",
            "Trainable params: 12,810\n",
            "Non-trainable params: 4,049,571\n",
            "_________________________________________________________________\n"
          ]
        }
      ]
    },
    {
      "cell_type": "code",
      "source": [
        "from helper_functions import plot_loss_curves\n",
        "\n",
        "plot_loss_curves(model_0_history)"
      ],
      "metadata": {
        "colab": {
          "base_uri": "https://localhost:8080/",
          "height": 927
        },
        "id": "w6dM1uIKmfAI",
        "outputId": "cc39eb51-1cc3-4e6b-8891-5f80bc152ef4"
      },
      "execution_count": 23,
      "outputs": [
        {
          "output_type": "display_data",
          "data": {
            "text/plain": [
              "<Figure size 640x480 with 1 Axes>"
            ],
            "image/png": "[encoded data removed]"
          },
          "metadata": {}
        },
        {
          "output_type": "display_data",
          "data": {
            "text/plain": [
              "<Figure size 640x480 with 1 Axes>"
            ],
            "image/png": "[encoded data removed]"
          },
          "metadata": {}
        }
      ]
    },
    {
      "cell_type": "markdown",
      "source": [
        "## Running A Series Of Transfer Learning Experiments\n",
        "\n",
        "1. `model_1` - use feature extraction transfer learning with 1% of the training data with data augmentation\n",
        "1. `model_2` - use feature extraction transfer learning with 10% of the trainning data with data augmentation\n",
        "1. `model_3` - use fine-tuning transfer learning on 10% of the training data with data augmentation\n",
        "1. `model_4` - use fine-tuning transfer learning on 100% of the training data with data augmentation"
      ],
      "metadata": {
        "id": "auayKK-Cmp8i"
      }
    }
  ]
}