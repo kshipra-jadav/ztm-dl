{
  "nbformat": 4,
  "nbformat_minor": 0,
  "metadata": {
    "colab": {
      "provenance": [],
      "authorship_tag": "ABX9TyPQ+WewGZLPutU8XYe13UyG",
      "include_colab_link": true
    },
    "kernelspec": {
      "name": "python3",
      "display_name": "Python 3"
    },
    "language_info": {
      "name": "python"
    }
  },
  "cells": [
    {
      "cell_type": "markdown",
      "metadata": {
        "id": "view-in-github",
        "colab_type": "text"
      },
      "source": [
        "<a href=\"https://colab.research.google.com/github/kshipra-jadav/ztm-dl/blob/master/ZTM_Milestone_Project_1_Food_Vision_101_Big.ipynb\" target=\"_parent\"><img src=\"https://colab.research.google.com/assets/colab-badge.svg\" alt=\"Open In Colab\"/></a>"
      ]
    },
    {
      "cell_type": "markdown",
      "source": [
        "# Milestone Project 1 - Food Vision Big"
      ],
      "metadata": {
        "id": "emt-xdeVXd3O"
      }
    },
    {
      "cell_type": "code",
      "source": [],
      "metadata": {
        "id": "YEN4a9m_Xvts"
      },
      "execution_count": null,
      "outputs": []
    }
  ]
}